{
 "cells": [
  {
   "cell_type": "markdown",
   "metadata": {},
   "source": [
    "# Amazon Forecast Data Diagnostic\n",
    "\n",
    "> *This notebook should work well in the `Python 3 (Data Science)` kernel in SageMaker Studio, or `conda_python3` in SageMaker Notebook Instances*\n",
    "\n",
    "This notebook provides a utility you can use to check your prepared data (CSV) files before loading to Amazon Forecast.\n",
    "\n",
    "It's a work in progress so won't cover everything, but may help to understand the condition of your data and whether any additional refinement needs to be done."
   ]
  },
  {
   "cell_type": "code",
   "execution_count": 1,
   "metadata": {},
   "outputs": [],
   "source": [
    "%load_ext autoreload\n",
    "%autoreload 2\n",
    "\n",
    "# Python Built-Ins:\n",
    "import os\n",
    "import sys\n",
    "\n",
    "# External Dependencies:\n",
    "import boto3\n",
    "\n",
    "# Local Dependencies:\n",
    "import util"
   ]
  },
  {
   "cell_type": "code",
   "execution_count": 2,
   "metadata": {},
   "outputs": [
    {
     "name": "stdout",
     "output_type": "stream",
     "text": [
      "Help on function diagnose in module util.diagnostic:\n",
      "\n",
      "diagnose(tts_path:str, frequency:Union[str, NoneType]=None, domain:Union[str, NoneType]=None, tts_schema=None) -> None\n",
      "    Perform a variety of analyses and checks on prepared data for Amazon Forecast, displaying to notebook\n",
      "    \n",
      "    Parameters\n",
      "    ----------\n",
      "    tts_path :\n",
      "        Local path to target time-series data CSV or folder of CSVs.\n",
      "    frequency : (Optional, recommended)\n",
      "        The 'ForecastFrequency' string per Forecast's CreatePredictor API. If this parameter is omitted, the\n",
      "        diagnostic cannot analyze the time range extents spanned and contiguous ranges covered for items:\n",
      "        Decreasing RAM requirement but also usefulness!\n",
      "    domain : (Optional)\n",
      "        'Domain' for the dataset group as configured in Amazon Forecast per\n",
      "        https://docs.aws.amazon.com/forecast/latest/dg/howitworks-domains-ds-types.html (May be omitted and\n",
      "        inferred automatically if possible from column headers / provided schemas).\n",
      "    tts_schema : (Optional)\n",
      "        Schema dict for the target time-series, as defined in the Forecast docs (i.e. containing key\n",
      "        'Attributes').\n",
      "\n"
     ]
    }
   ],
   "source": [
    "help(util.diagnostic.diagnose)"
   ]
  },
  {
   "cell_type": "code",
   "execution_count": 3,
   "metadata": {},
   "outputs": [
    {
     "name": "stdout",
     "output_type": "stream",
     "text": [
      "Analysis started at 2020-09-29 03:44:33.954182+00:00\n",
      "Found 1 target time-series files:\n",
      "    data/target_time_series_2014.csv\n",
      "Processing file chunk 0 (global chunk 0)\n",
      "Inferred target time-series schema:\n",
      "{\n",
      "  \"Attributes\": [\n",
      "    {\n",
      "      \"AttributeName\": \"timestamp\",\n",
      "      \"AttributeType\": \"timestamp\"\n",
      "    },\n",
      "    {\n",
      "      \"AttributeName\": \"demand\",\n",
      "      \"AttributeType\": \"float\"\n",
      "    },\n",
      "    {\n",
      "      \"AttributeName\": \"item_id\",\n",
      "      \"AttributeType\": \"string\"\n",
      "    }\n",
      "  ]\n",
      "}\n",
      "Validated schema conforms to domain 'INVENTORY_PLANNING' with:\n",
      "Required fields ['item_id', 'timestamp', 'demand']\n",
      "Optional fields []\n",
      "Custom fields []\n"
     ]
    },
    {
     "data": {
      "text/markdown": [
       "### Target Time-Series Summary\n",
       "- **Time span:** 2014-01-01 00:00:00 to 2014-12-31 23:00:00 (365 timesteps)\n",
       "- **Total records:** 9098 of which 4836 with no missing values"
      ],
      "text/plain": [
       "<IPython.core.display.Markdown object>"
      ]
     },
     "metadata": {},
     "output_type": "display_data"
    },
    {
     "data": {
      "text/html": [
       "<div class=\"alert alert-warning\"><strong>4262 (46.85% of total) records contain missing values</strong></div>"
      ],
      "text/plain": [
       "<IPython.core.display.HTML object>"
      ]
     },
     "metadata": {},
     "output_type": "display_data"
    },
    {
     "data": {
      "text/html": [
       "<div>\n",
       "<style scoped>\n",
       "    .dataframe tbody tr th:only-of-type {\n",
       "        vertical-align: middle;\n",
       "    }\n",
       "\n",
       "    .dataframe tbody tr th {\n",
       "        vertical-align: top;\n",
       "    }\n",
       "\n",
       "    .dataframe thead th {\n",
       "        text-align: right;\n",
       "    }\n",
       "</style>\n",
       "<table border=\"1\" class=\"dataframe\">\n",
       "  <thead>\n",
       "    <tr style=\"text-align: right;\">\n",
       "      <th></th>\n",
       "      <th>Missing/Empty Values</th>\n",
       "    </tr>\n",
       "  </thead>\n",
       "  <tbody>\n",
       "    <tr>\n",
       "      <th>timestamp</th>\n",
       "      <td>0</td>\n",
       "    </tr>\n",
       "    <tr>\n",
       "      <th>demand</th>\n",
       "      <td>4262</td>\n",
       "    </tr>\n",
       "    <tr>\n",
       "      <th>item_id</th>\n",
       "      <td>0</td>\n",
       "    </tr>\n",
       "  </tbody>\n",
       "</table>\n",
       "</div>"
      ],
      "text/plain": [
       "           Missing/Empty Values\n",
       "timestamp                     0\n",
       "demand                     4262\n",
       "item_id                       0"
      ]
     },
     "metadata": {},
     "output_type": "display_data"
    },
    {
     "data": {
      "text/markdown": [
       "### Items\n",
       "- **Unique items to forecast:** 2"
      ],
      "text/plain": [
       "<IPython.core.display.Markdown object>"
      ]
     },
     "metadata": {},
     "output_type": "display_data"
    },
    {
     "data": {
      "text/html": [
       "<div class=\"alert alert-warning\"><strong>Small number of items (2)</strong><div>The more advanced, deep learning-based algorithms in Amazon Forecast often excel in\n",
       "scenarios where a large number of timeseries are to be jointly modelled.</div></div>"
      ],
      "text/plain": [
       "<IPython.core.display.HTML object>"
      ]
     },
     "metadata": {},
     "output_type": "display_data"
    },
    {
     "data": {
      "text/markdown": [
       "**Top items by record count:**"
      ],
      "text/plain": [
       "<IPython.core.display.Markdown object>"
      ]
     },
     "metadata": {},
     "output_type": "display_data"
    },
    {
     "data": {
      "text/html": [
       "<div>\n",
       "<style scoped>\n",
       "    .dataframe tbody tr th:only-of-type {\n",
       "        vertical-align: middle;\n",
       "    }\n",
       "\n",
       "    .dataframe tbody tr th {\n",
       "        vertical-align: top;\n",
       "    }\n",
       "\n",
       "    .dataframe thead th {\n",
       "        text-align: right;\n",
       "    }\n",
       "</style>\n",
       "<table border=\"1\" class=\"dataframe\">\n",
       "  <thead>\n",
       "    <tr style=\"text-align: right;\">\n",
       "      <th></th>\n",
       "      <th>Records</th>\n",
       "      <th>Percentage</th>\n",
       "    </tr>\n",
       "    <tr>\n",
       "      <th>item_id</th>\n",
       "      <th></th>\n",
       "      <th></th>\n",
       "    </tr>\n",
       "  </thead>\n",
       "  <tbody>\n",
       "    <tr>\n",
       "      <th>B</th>\n",
       "      <td>5571</td>\n",
       "      <td>61.23%</td>\n",
       "    </tr>\n",
       "    <tr>\n",
       "      <th>A</th>\n",
       "      <td>3527</td>\n",
       "      <td>38.77%</td>\n",
       "    </tr>\n",
       "  </tbody>\n",
       "</table>\n",
       "</div>"
      ],
      "text/plain": [
       "         Records Percentage\n",
       "item_id                    \n",
       "B           5571     61.23%\n",
       "A           3527     38.77%"
      ]
     },
     "metadata": {},
     "output_type": "display_data"
    },
    {
     "data": {
      "image/png": "[encoded data removed]",
      "text/plain": [
       "<Figure size 432x288 with 1 Axes>"
      ]
     },
     "metadata": {
      "needs_background": "light"
     },
     "output_type": "display_data"
    },
    {
     "data": {
      "text/markdown": [
       "**Unique values in dimension 'item_id'**: 2"
      ],
      "text/plain": [
       "<IPython.core.display.Markdown object>"
      ]
     },
     "metadata": {},
     "output_type": "display_data"
    },
    {
     "data": {
      "text/markdown": [
       "**Top record counts by dimension item_id:**"
      ],
      "text/plain": [
       "<IPython.core.display.Markdown object>"
      ]
     },
     "metadata": {},
     "output_type": "display_data"
    },
    {
     "data": {
      "text/html": [
       "<div>\n",
       "<style scoped>\n",
       "    .dataframe tbody tr th:only-of-type {\n",
       "        vertical-align: middle;\n",
       "    }\n",
       "\n",
       "    .dataframe tbody tr th {\n",
       "        vertical-align: top;\n",
       "    }\n",
       "\n",
       "    .dataframe thead th {\n",
       "        text-align: right;\n",
       "    }\n",
       "</style>\n",
       "<table border=\"1\" class=\"dataframe\">\n",
       "  <thead>\n",
       "    <tr style=\"text-align: right;\">\n",
       "      <th></th>\n",
       "      <th>Records</th>\n",
       "      <th>Percentage</th>\n",
       "    </tr>\n",
       "  </thead>\n",
       "  <tbody>\n",
       "    <tr>\n",
       "      <th>B</th>\n",
       "      <td>5571</td>\n",
       "      <td>61.23%</td>\n",
       "    </tr>\n",
       "    <tr>\n",
       "      <th>A</th>\n",
       "      <td>3527</td>\n",
       "      <td>38.77%</td>\n",
       "    </tr>\n",
       "  </tbody>\n",
       "</table>\n",
       "</div>"
      ],
      "text/plain": [
       "   Records Percentage\n",
       "B     5571     61.23%\n",
       "A     3527     38.77%"
      ]
     },
     "metadata": {},
     "output_type": "display_data"
    },
    {
     "data": {
      "image/png": "[encoded data removed]",
      "text/plain": [
       "<Figure size 432x288 with 1 Axes>"
      ]
     },
     "metadata": {
      "needs_background": "light"
     },
     "output_type": "display_data"
    },
    {
     "data": {
      "text/markdown": [
       "### Data Ranges"
      ],
      "text/plain": [
       "<IPython.core.display.Markdown object>"
      ]
     },
     "metadata": {},
     "output_type": "display_data"
    },
    {
     "data": {
      "text/markdown": [
       "- **Forecast frequency:** 'D'\n",
       "- **Total detected contiguous data ranges:** 14 (avg 7.00 per item)"
      ],
      "text/plain": [
       "<IPython.core.display.Markdown object>"
      ]
     },
     "metadata": {},
     "output_type": "display_data"
    },
    {
     "data": {
      "text/html": [
       "<div class=\"alert alert-warning\"><strong>Target time-series contains aggregations at the specified granularity 'D'</strong><div><p>\n",
       "Your data contains instances where multiple records will map to a single \n",
       "timestamp-item bucket. This is supported, but you should check it's expected (rather\n",
       "than duplicate records) and configure appropriate\n",
       "<a href=\"https://docs.aws.amazon.com/forecast/latest/dg/howitworks-datasets-groups.html#howitworks-data-alignment\">\n",
       "aggregation settings</a> when creating your Predictor.\n",
       "</p>\n",
       "<p>Detected max 45 in one time interval.</p></div></div>"
      ],
      "text/plain": [
       "<IPython.core.display.HTML object>"
      ]
     },
     "metadata": {},
     "output_type": "display_data"
    },
    {
     "data": {
      "text/markdown": [
       "#### Overall extents (including gaps between records)"
      ],
      "text/plain": [
       "<IPython.core.display.Markdown object>"
      ]
     },
     "metadata": {},
     "output_type": "display_data"
    },
    {
     "data": {
      "text/markdown": [
       "On average, each item spans 219.5 time steps (219.0 min, 220.0 max)"
      ],
      "text/plain": [
       "<IPython.core.display.Markdown object>"
      ]
     },
     "metadata": {},
     "output_type": "display_data"
    },
    {
     "data": {
      "text/html": [
       "<div class=\"alert alert-warning\"><strong>Average item extent is less than 500 time steps</strong><div>It's likely that accuracy could be improved by modelling at a smaller time granularity or\n",
       "adding more historical data. Ideally historical data would cover 3-5 (or more) cycles of the\n",
       "longest important seasonality in the data (annual, in many cases e.g. retail).</div></div>"
      ],
      "text/plain": [
       "<IPython.core.display.HTML object>"
      ]
     },
     "metadata": {},
     "output_type": "display_data"
    },
    {
     "data": {
      "text/markdown": [
       "Ignoring/filling gaps, items span proportion of the total history as follows:\n",
       "- **≥100.0% of global history:** 0\n",
       "- **100.0%> x ≥90.0% of global history:** 0 (0.0% of all items)\n",
       "- **90.0%> x ≥50.0% of global history:** 2 (100.0% of all items)\n",
       "- **50.0%> x ≥5.0% of global history:** 0 (0.0% of all items)\n",
       "- **5.0%> x ≥1.0% of global history:** 0 (0.0% of all items)\n",
       "- **<1.0% of global history:** 0 (0.0% of all items)"
      ],
      "text/plain": [
       "<IPython.core.display.Markdown object>"
      ]
     },
     "metadata": {},
     "output_type": "display_data"
    },
    {
     "data": {
      "text/html": [
       "<div class=\"alert alert-warning\"><strong><100.0% of all items cover at least 100.0% of the global history</strong><div>This could indicate data timestamp alignment issues if not expected</div></div>"
      ],
      "text/plain": [
       "<IPython.core.display.HTML object>"
      ]
     },
     "metadata": {},
     "output_type": "display_data"
    },
    {
     "data": {
      "text/markdown": [
       "**Top items by total extent:**"
      ],
      "text/plain": [
       "<IPython.core.display.Markdown object>"
      ]
     },
     "metadata": {},
     "output_type": "display_data"
    },
    {
     "data": {
      "text/html": [
       "<div>\n",
       "<style scoped>\n",
       "    .dataframe tbody tr th:only-of-type {\n",
       "        vertical-align: middle;\n",
       "    }\n",
       "\n",
       "    .dataframe tbody tr th {\n",
       "        vertical-align: top;\n",
       "    }\n",
       "\n",
       "    .dataframe thead th {\n",
       "        text-align: right;\n",
       "    }\n",
       "</style>\n",
       "<table border=\"1\" class=\"dataframe\">\n",
       "  <thead>\n",
       "    <tr style=\"text-align: right;\">\n",
       "      <th></th>\n",
       "      <th>starts</th>\n",
       "      <th>ends</th>\n",
       "      <th>range</th>\n",
       "      <th>steps</th>\n",
       "    </tr>\n",
       "    <tr>\n",
       "      <th>item_id</th>\n",
       "      <th></th>\n",
       "      <th></th>\n",
       "      <th></th>\n",
       "      <th></th>\n",
       "    </tr>\n",
       "  </thead>\n",
       "  <tbody>\n",
       "    <tr>\n",
       "      <th>B</th>\n",
       "      <td>2014-01-01</td>\n",
       "      <td>2014-08-08</td>\n",
       "      <td>&lt;220 * Days&gt;</td>\n",
       "      <td>220.0</td>\n",
       "    </tr>\n",
       "    <tr>\n",
       "      <th>A</th>\n",
       "      <td>2014-01-01</td>\n",
       "      <td>2014-08-07</td>\n",
       "      <td>&lt;219 * Days&gt;</td>\n",
       "      <td>219.0</td>\n",
       "    </tr>\n",
       "  </tbody>\n",
       "</table>\n",
       "</div>"
      ],
      "text/plain": [
       "            starts       ends         range  steps\n",
       "item_id                                           \n",
       "B       2014-01-01 2014-08-08  <220 * Days>  220.0\n",
       "A       2014-01-01 2014-08-07  <219 * Days>  219.0"
      ]
     },
     "metadata": {},
     "output_type": "display_data"
    },
    {
     "data": {
      "image/png": "[encoded data removed]",
      "text/plain": [
       "<Figure size 432x288 with 1 Axes>"
      ]
     },
     "metadata": {
      "needs_background": "light"
     },
     "output_type": "display_data"
    },
    {
     "data": {
      "text/markdown": [
       "#### Contiguous ranges (split by gaps)"
      ],
      "text/plain": [
       "<IPython.core.display.Markdown object>"
      ]
     },
     "metadata": {},
     "output_type": "display_data"
    },
    {
     "data": {
      "text/markdown": [
       "Items contiguously cover proportion of their overall extents as follows:\n",
       "- **≥100.0% of extent:** 0\n",
       "- **100.0%> x ≥90.0% of extent:** 2 (100.0% of all items)\n",
       "- **90.0%> x ≥50.0% of extent:** 0 (0.0% of all items)\n",
       "- **50.0%> x ≥10.0% of extent:** 0 (0.0% of all items)\n",
       "- **10.0%> x ≥1.0% of extent:** 0 (0.0% of all items)\n",
       "- **<1.0% of global history:** 0 (0.0% of all items)"
      ],
      "text/plain": [
       "<IPython.core.display.Markdown object>"
      ]
     },
     "metadata": {},
     "output_type": "display_data"
    },
    {
     "data": {
      "text/html": [
       "<div class=\"alert alert-warning\"><strong><100.0% of all items cover at least 100.0% of their total extent</strong><div>At least some of your items have gaps (missing timesteps between first and last records).</div></div>"
      ],
      "text/plain": [
       "<IPython.core.display.HTML object>"
      ]
     },
     "metadata": {},
     "output_type": "display_data"
    },
    {
     "data": {
      "text/markdown": [
       "**Top items by timesteps covered:**"
      ],
      "text/plain": [
       "<IPython.core.display.Markdown object>"
      ]
     },
     "metadata": {},
     "output_type": "display_data"
    },
    {
     "data": {
      "text/html": [
       "<div>\n",
       "<style scoped>\n",
       "    .dataframe tbody tr th:only-of-type {\n",
       "        vertical-align: middle;\n",
       "    }\n",
       "\n",
       "    .dataframe tbody tr th {\n",
       "        vertical-align: top;\n",
       "    }\n",
       "\n",
       "    .dataframe thead th {\n",
       "        text-align: right;\n",
       "    }\n",
       "</style>\n",
       "<table border=\"1\" class=\"dataframe\">\n",
       "  <thead>\n",
       "    <tr style=\"text-align: right;\">\n",
       "      <th></th>\n",
       "      <th># Contiguous Ranges</th>\n",
       "      <th>Min Range Length</th>\n",
       "      <th>Mean Range Length</th>\n",
       "      <th>Max Range Length</th>\n",
       "      <th>Timesteps Covered</th>\n",
       "      <th>Extent Timesteps</th>\n",
       "    </tr>\n",
       "    <tr>\n",
       "      <th>item_id</th>\n",
       "      <th></th>\n",
       "      <th></th>\n",
       "      <th></th>\n",
       "      <th></th>\n",
       "      <th></th>\n",
       "      <th></th>\n",
       "    </tr>\n",
       "  </thead>\n",
       "  <tbody>\n",
       "    <tr>\n",
       "      <th>A</th>\n",
       "      <td>5</td>\n",
       "      <td>3.0</td>\n",
       "      <td>42.200000</td>\n",
       "      <td>119.0</td>\n",
       "      <td>211.0</td>\n",
       "      <td>219.0</td>\n",
       "    </tr>\n",
       "    <tr>\n",
       "      <th>B</th>\n",
       "      <td>9</td>\n",
       "      <td>1.0</td>\n",
       "      <td>22.666667</td>\n",
       "      <td>119.0</td>\n",
       "      <td>204.0</td>\n",
       "      <td>220.0</td>\n",
       "    </tr>\n",
       "  </tbody>\n",
       "</table>\n",
       "</div>"
      ],
      "text/plain": [
       "         # Contiguous Ranges  Min Range Length  Mean Range Length  \\\n",
       "item_id                                                             \n",
       "A                          5               3.0          42.200000   \n",
       "B                          9               1.0          22.666667   \n",
       "\n",
       "         Max Range Length  Timesteps Covered  Extent Timesteps  \n",
       "item_id                                                         \n",
       "A                   119.0              211.0             219.0  \n",
       "B                   119.0              204.0             220.0  "
      ]
     },
     "metadata": {},
     "output_type": "display_data"
    },
    {
     "data": {
      "image/png": "[encoded data removed]",
      "text/plain": [
       "<Figure size 432x288 with 1 Axes>"
      ]
     },
     "metadata": {
      "needs_background": "light"
     },
     "output_type": "display_data"
    }
   ],
   "source": [
    "util.diagnostic.diagnose(\n",
    "    \"data/target_time_series_2014.csv\",\n",
    "    domain=\"INVENTORY_PLANNING\",\n",
    "    frequency=\"D\",\n",
    "#     tts_schema={\n",
    "#         \"Attributes\": [\n",
    "#             {\n",
    "#                 \"AttributeName\": \"timestamp\",\n",
    "#                 \"AttributeType\": \"timestamp\",\n",
    "#             },\n",
    "#             {\n",
    "#                 \"AttributeName\": \"demand\",\n",
    "#                 \"AttributeType\": \"float\",\n",
    "#             },\n",
    "#             {\n",
    "#                 \"AttributeName\": \"item_id\",\n",
    "#                 \"AttributeType\": \"string\",\n",
    "#             },\n",
    "#         ],\n",
    "#     },\n",
    ")"
   ]
  },
  {
   "cell_type": "code",
   "execution_count": null,
   "metadata": {},
   "outputs": [],
   "source": []
  }
 ],
 "metadata": {
  "instance_type": "ml.t3.medium",
  "kernelspec": {
   "display_name": "Python 3 (Data Science)",
   "language": "python",
   "name": "python3__SAGEMAKER_INTERNAL__arn:aws:sagemaker:ap-southeast-1:492261229750:image/datascience-1.0"
  },
  "language_info": {
   "codemirror_mode": {
    "name": "ipython",
    "version": 3
   },
   "file_extension": ".py",
   "mimetype": "text/x-python",
   "name": "python",
   "nbconvert_exporter": "python",
   "pygments_lexer": "ipython3",
   "version": "3.7.10"
  }
 },
 "nbformat": 4,
 "nbformat_minor": 4
}
